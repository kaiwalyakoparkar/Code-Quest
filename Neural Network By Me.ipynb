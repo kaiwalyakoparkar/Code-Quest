{
 "cells": [
  {
   "cell_type": "code",
   "execution_count": 21,
   "metadata": {},
   "outputs": [],
   "source": [
    "#This a neural network designed by me to find the approximate ouput\n",
    "#of the XOR gates with the standard inputs\n",
    "\n",
    "#Importing Part\n",
    "\n",
    "import numpy as np \n",
    "import math \n",
    "\n",
    "# Defining the sigmoid function for activations\n",
    "def sigmoid(x):\n",
    "    return 1/(1+np.exp(-x))"
   ]
  },
  {
   "cell_type": "code",
   "execution_count": 22,
   "metadata": {},
   "outputs": [],
   "source": [
    "#Inputs and Outputs\n",
    "\n",
    "#Input | Output\n",
    "#0,0   | 0\n",
    "#0,1   | 1\n",
    "#1,0   | 1\n",
    "#1,1   | 0"
   ]
  },
  {
   "cell_type": "code",
   "execution_count": 23,
   "metadata": {},
   "outputs": [
    {
     "name": "stdout",
     "output_type": "stream",
     "text": [
      "1.0\n",
      "1.3\n",
      "0.8\n"
     ]
    }
   ],
   "source": [
    "#Providing weightage as\n",
    "#{[0.8,0.4,0.3],[0.2,0.9,0.5]}\n",
    "\n",
    "#defining nurals from hidden layer as n\n",
    "n1 = 1*0.8 + 1*0.2\n",
    "n2 = 1*0.4 + 1*0.9\n",
    "n3 = 1*0.3 + 1*0.5\n",
    "print(n1)\n",
    "print(n2)\n",
    "print(n3)"
   ]
  },
  {
   "cell_type": "code",
   "execution_count": 24,
   "metadata": {},
   "outputs": [
    {
     "name": "stdout",
     "output_type": "stream",
     "text": [
      "X(1.0) = \n",
      " 0.7310585786300049\n",
      "X(1.3) = \n",
      " 0.7858349830425586\n",
      "X(0.8) = \n",
      " 0.6899744811276125\n"
     ]
    }
   ],
   "source": [
    "#taking sigmod from the input of following hidden layer\n",
    "print(\"X(1.0) = \\n\",sigmoid(n1))\n",
    "print(\"X(1.3) = \\n\",sigmoid(n2))\n",
    "print(\"X(0.8) = \\n\",sigmoid(n3))"
   ]
  },
  {
   "cell_type": "code",
   "execution_count": 25,
   "metadata": {},
   "outputs": [
    {
     "name": "stdout",
     "output_type": "stream",
     "text": [
      "Output is  0.7746924929149283\n"
     ]
    }
   ],
   "source": [
    "#Assigning the weigtage fron hidden layer\n",
    "#{[0.3],[0.5],[0.9]}\n",
    "\n",
    "#defining output as op\n",
    "\n",
    "op = 0.73*0.3 + 0.79*0.5 + 0.69*0.9\n",
    "print(\"Output is \",sigmoid(op))"
   ]
  },
  {
   "cell_type": "code",
   "execution_count": null,
   "metadata": {},
   "outputs": [],
   "source": [
    "#Here the output should be 0 and my approximaion is 0.77 \n",
    "#which is pritty closer."
   ]
  }
 ],
 "metadata": {
  "kernelspec": {
   "display_name": "Python 3",
   "language": "python",
   "name": "python3"
  },
  "language_info": {
   "codemirror_mode": {
    "name": "ipython",
    "version": 3
   },
   "file_extension": ".py",
   "mimetype": "text/x-python",
   "name": "python",
   "nbconvert_exporter": "python",
   "pygments_lexer": "ipython3",
   "version": "3.7.6"
  }
 },
 "nbformat": 4,
 "nbformat_minor": 4
}
