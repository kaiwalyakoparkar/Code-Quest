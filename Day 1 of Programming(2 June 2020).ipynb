{
 "cells": [
  {
   "cell_type": "code",
   "execution_count": 1,
   "metadata": {},
   "outputs": [],
   "source": [
    "a=10\n",
    "b=4"
   ]
  },
  {
   "cell_type": "code",
   "execution_count": 2,
   "metadata": {},
   "outputs": [
    {
     "name": "stdout",
     "output_type": "stream",
     "text": [
      "0\n",
      "14\n",
      "-11\n"
     ]
    }
   ],
   "source": [
    "print(a & b)\n",
    "print(a | b)\n",
    "print(~a)"
   ]
  },
  {
   "cell_type": "code",
   "execution_count": 3,
   "metadata": {},
   "outputs": [
    {
     "ename": "SyntaxError",
     "evalue": "invalid character in identifier (<ipython-input-3-fcb6fe394fa7>, line 3)",
     "output_type": "error",
     "traceback": [
      "\u001b[1;36m  File \u001b[1;32m\"<ipython-input-3-fcb6fe394fa7>\"\u001b[1;36m, line \u001b[1;32m3\u001b[0m\n\u001b[1;33m    a2 =‘Hello'\u001b[0m\n\u001b[1;37m             ^\u001b[0m\n\u001b[1;31mSyntaxError\u001b[0m\u001b[1;31m:\u001b[0m invalid character in identifier\n"
     ]
    }
   ],
   "source": [
    "a1 = 3\n",
    "b1 = 3\n",
    "a2 ='Hello'  \n",
    "b2 = 'Hello'\n"
   ]
  },
  {
   "cell_type": "code",
   "execution_count": 4,
   "metadata": {},
   "outputs": [
    {
     "ename": "NameError",
     "evalue": "name 'a1' is not defined",
     "output_type": "error",
     "traceback": [
      "\u001b[1;31m---------------------------------------------------------------------------\u001b[0m",
      "\u001b[1;31mNameError\u001b[0m                                 Traceback (most recent call last)",
      "\u001b[1;32m<ipython-input-4-6bde3eb905a4>\u001b[0m in \u001b[0;36m<module>\u001b[1;34m\u001b[0m\n\u001b[1;32m----> 1\u001b[1;33m \u001b[0mprint\u001b[0m\u001b[1;33m(\u001b[0m\u001b[0ma1\u001b[0m \u001b[1;32mis\u001b[0m \u001b[1;32mnot\u001b[0m \u001b[0mb1\u001b[0m\u001b[1;33m)\u001b[0m\u001b[1;33m\u001b[0m\u001b[1;33m\u001b[0m\u001b[0m\n\u001b[0m\u001b[0;32m      2\u001b[0m \u001b[0mprint\u001b[0m\u001b[1;33m(\u001b[0m\u001b[0ma2\u001b[0m \u001b[1;32mis\u001b[0m \u001b[0mb2\u001b[0m\u001b[1;33m)\u001b[0m\u001b[1;33m\u001b[0m\u001b[1;33m\u001b[0m\u001b[0m\n",
      "\u001b[1;31mNameError\u001b[0m: name 'a1' is not defined"
     ]
    }
   ],
   "source": [
    "print(a1 is not b1) \n",
    "print(a2 is b2)"
   ]
  },
  {
   "cell_type": "code",
   "execution_count": 5,
   "metadata": {},
   "outputs": [
    {
     "name": "stdout",
     "output_type": "stream",
     "text": [
      "True\n",
      "False\n",
      "True\n"
     ]
    }
   ],
   "source": [
    "x = 'Hello There!!'  \n",
    "  \n",
    "print('H' in x) \n",
    "  \n",
    "print('Hello' not in x) \n",
    "  \n",
    "print('hello' not in x) \n"
   ]
  },
  {
   "cell_type": "code",
   "execution_count": 7,
   "metadata": {},
   "outputs": [
    {
     "name": "stdout",
     "output_type": "stream",
     "text": [
      "I Love Pyton\n"
     ]
    }
   ],
   "source": [
    "a = \"I Love Pyton\"\n",
    "print (a)\n"
   ]
  },
  {
   "cell_type": "code",
   "execution_count": 10,
   "metadata": {},
   "outputs": [
    {
     "name": "stdout",
     "output_type": "stream",
     "text": [
      "Hello world\n"
     ]
    }
   ],
   "source": [
    "a='Hello'\n",
    "b='world'\n",
    "\n",
    "print(a+' '+b)\n"
   ]
  },
  {
   "cell_type": "code",
   "execution_count": 11,
   "metadata": {},
   "outputs": [
    {
     "name": "stdout",
     "output_type": "stream",
     "text": [
      "HelloHelloHelloHelloHello\n"
     ]
    }
   ],
   "source": [
    "print(a*5)"
   ]
  },
  {
   "cell_type": "code",
   "execution_count": 12,
   "metadata": {},
   "outputs": [
    {
     "name": "stdout",
     "output_type": "stream",
     "text": [
      "Hello     \n"
     ]
    }
   ],
   "source": [
    "print(a+' '*5)"
   ]
  },
  {
   "cell_type": "code",
   "execution_count": 13,
   "metadata": {},
   "outputs": [
    {
     "name": "stdout",
     "output_type": "stream",
     "text": [
      "Hello Hello Hello Hello Hello \n"
     ]
    }
   ],
   "source": [
    "print((a+' ')*5)"
   ]
  },
  {
   "cell_type": "code",
   "execution_count": 14,
   "metadata": {},
   "outputs": [],
   "source": [
    "a='My name is Kaiwalya Koparkar'"
   ]
  },
  {
   "cell_type": "code",
   "execution_count": 15,
   "metadata": {},
   "outputs": [
    {
     "data": {
      "text/plain": [
       "6"
      ]
     },
     "execution_count": 15,
     "metadata": {},
     "output_type": "execute_result"
    }
   ],
   "source": [
    "a.count('a')"
   ]
  },
  {
   "cell_type": "code",
   "execution_count": 16,
   "metadata": {},
   "outputs": [
    {
     "data": {
      "text/plain": [
       "11"
      ]
     },
     "execution_count": 16,
     "metadata": {},
     "output_type": "execute_result"
    }
   ],
   "source": [
    "a.find('K')"
   ]
  },
  {
   "cell_type": "code",
   "execution_count": 17,
   "metadata": {},
   "outputs": [
    {
     "name": "stdout",
     "output_type": "stream",
     "text": [
      "Mohammad has 27 ballons\n"
     ]
    }
   ],
   "source": [
    "print(\"Mohammad has {} ballons\".format(27))"
   ]
  },
  {
   "cell_type": "code",
   "execution_count": 19,
   "metadata": {},
   "outputs": [
    {
     "name": "stdout",
     "output_type": "stream",
     "text": [
      "Does your dog bite ?\n"
     ]
    }
   ],
   "source": [
    "animal='dog'\n",
    "action='bite'\n",
    "\n",
    "print(\"Does your {} {} ?\".format(animal,action))"
   ]
  },
  {
   "cell_type": "code",
   "execution_count": 20,
   "metadata": {},
   "outputs": [],
   "source": [
    "b='My name is Kaiwalya Kopakar'"
   ]
  },
  {
   "cell_type": "code",
   "execution_count": 22,
   "metadata": {},
   "outputs": [
    {
     "data": {
      "text/plain": [
       "['My', 'name', 'is', 'Kaiwalya', 'Kopakar']"
      ]
     },
     "execution_count": 22,
     "metadata": {},
     "output_type": "execute_result"
    }
   ],
   "source": [
    "b.split()"
   ]
  },
  {
   "cell_type": "code",
   "execution_count": 25,
   "metadata": {
    "scrolled": true
   },
   "outputs": [
    {
     "data": {
      "text/plain": [
       "['My', 'name', 'is Kaiwalya Kopakar']"
      ]
     },
     "execution_count": 25,
     "metadata": {},
     "output_type": "execute_result"
    }
   ],
   "source": [
    "b.split(' ',2)"
   ]
  },
  {
   "cell_type": "code",
   "execution_count": 26,
   "metadata": {
    "scrolled": true
   },
   "outputs": [
    {
     "data": {
      "text/plain": [
       "['My name is Kaiwalya Kopakar']"
      ]
     },
     "execution_count": 26,
     "metadata": {},
     "output_type": "execute_result"
    }
   ],
   "source": [
    "b.split('.')"
   ]
  },
  {
   "cell_type": "code",
   "execution_count": 27,
   "metadata": {
    "scrolled": true
   },
   "outputs": [
    {
     "data": {
      "text/plain": [
       "['My name is Kaiwalya Kopakar']"
      ]
     },
     "execution_count": 27,
     "metadata": {},
     "output_type": "execute_result"
    }
   ],
   "source": [
    "b.split('.',3)"
   ]
  },
  {
   "cell_type": "code",
   "execution_count": 29,
   "metadata": {},
   "outputs": [
    {
     "data": {
      "text/plain": [
       "['My', 'name', 'is', 'Kaiwalya Kopakar']"
      ]
     },
     "execution_count": 29,
     "metadata": {},
     "output_type": "execute_result"
    }
   ],
   "source": [
    "b.split(None, 3)"
   ]
  },
  {
   "cell_type": "code",
   "execution_count": 30,
   "metadata": {},
   "outputs": [
    {
     "name": "stdout",
     "output_type": "stream",
     "text": [
      "[1, 'a', 'string', 3]\n"
     ]
    }
   ],
   "source": [
    "L = [1, \"a\" , \"string\" , 1+2] \n",
    "print(L)\n"
   ]
  },
  {
   "cell_type": "code",
   "execution_count": 31,
   "metadata": {},
   "outputs": [
    {
     "name": "stdout",
     "output_type": "stream",
     "text": [
      "Intial blank List: \n",
      "[]\n",
      "\n",
      "List after Addition of Three elements: \n",
      "[1, 2, 4, 5]\n"
     ]
    }
   ],
   "source": [
    "List = [ ] \n",
    "print(\"Intial blank List: \")  \n",
    "print(List)\n",
    "List.append(1) \n",
    "List.append(2) \n",
    "List.append(4) \n",
    "List.append(5)\n",
    "print(\"\\nList after Addition of Three elements: \") \n",
    "print(List) \n"
   ]
  },
  {
   "cell_type": "code",
   "execution_count": 32,
   "metadata": {},
   "outputs": [
    {
     "name": "stdout",
     "output_type": "stream",
     "text": [
      "[1, 2, 4, 12, 5]\n",
      "1\n",
      "4\n",
      "[1, 2, 12, 5]\n",
      "[1, 2, 12]\n",
      "[1, 2]\n"
     ]
    }
   ],
   "source": [
    "List.insert(3, 12)  \n",
    "print(List)   \n",
    "print(List[0])                                                  \n",
    "print(List[2])                                                  \n",
    "List.remove(4)\n",
    "print(List)         \n",
    "List.pop()\n",
    "print(List)                                             \n",
    "List.pop(2) \n",
    "print(List)                                         "
   ]
  },
  {
   "cell_type": "code",
   "execution_count": 33,
   "metadata": {},
   "outputs": [
    {
     "data": {
      "text/plain": [
       "6"
      ]
     },
     "execution_count": 33,
     "metadata": {},
     "output_type": "execute_result"
    }
   ],
   "source": [
    "list=[1,5,3,6]\n",
    "max(list)"
   ]
  },
  {
   "cell_type": "code",
   "execution_count": 34,
   "metadata": {},
   "outputs": [
    {
     "data": {
      "text/plain": [
       "1"
      ]
     },
     "execution_count": 34,
     "metadata": {},
     "output_type": "execute_result"
    }
   ],
   "source": [
    "min(list)"
   ]
  },
  {
   "cell_type": "code",
   "execution_count": 35,
   "metadata": {},
   "outputs": [
    {
     "data": {
      "text/plain": [
       "[1, 3, 5, 6]"
      ]
     },
     "execution_count": 35,
     "metadata": {},
     "output_type": "execute_result"
    }
   ],
   "source": [
    "sorted(list)"
   ]
  },
  {
   "cell_type": "code",
   "execution_count": 36,
   "metadata": {},
   "outputs": [
    {
     "name": "stdout",
     "output_type": "stream",
     "text": [
      "[1, 5, 3, 6]\n"
     ]
    }
   ],
   "source": [
    "print(list)"
   ]
  },
  {
   "cell_type": "code",
   "execution_count": 38,
   "metadata": {},
   "outputs": [
    {
     "name": "stdout",
     "output_type": "stream",
     "text": [
      "Tuple 1: \n",
      "(0, 1, 2, 3)\n",
      "\n",
      "Tuple2: \n",
      "('Python', 'For', 'Geeks')\n",
      "\n",
      "Tuples after Concatenation: \n",
      "(0, 1, 2, 3, 'Python', 'For', 'Geeks')\n"
     ]
    }
   ],
   "source": [
    "Tuple1 = (0, 1, 2, 3) \n",
    "Tuple2 = ('Python', 'For', 'Geeks') \n",
    "Tuple3 = Tuple1 + Tuple2 \n",
    "# Printing first Tuple \n",
    "print(\"Tuple 1: \") \n",
    "print(Tuple1) \n",
    "# Printing Second Tuple \n",
    "print(\"\\nTuple2: \") \n",
    "print(Tuple2) \n",
    "# Printing Final Tuple \n",
    "print(\"\\nTuples after Concatenation: \") \n",
    "print(Tuple3)\n"
   ]
  },
  {
   "cell_type": "code",
   "execution_count": 39,
   "metadata": {},
   "outputs": [
    {
     "name": "stdout",
     "output_type": "stream",
     "text": [
      "\n",
      "Set with the use of Numbers: \n",
      "{1, 2, 3, 4, 5, 6}\n"
     ]
    }
   ],
   "source": [
    "set1 = set([1, 2, 4, 4, 3, 3, 3, 6, 5])\n",
    "print(\"\\nSet with the use of Numbers: \")\n",
    "print(set1)\n"
   ]
  },
  {
   "cell_type": "code",
   "execution_count": 40,
   "metadata": {},
   "outputs": [
    {
     "name": "stdout",
     "output_type": "stream",
     "text": [
      "\n",
      "Set with the use of Mixed Values\n",
      "{1, 2, 4, 6, 'Geeks', 'For'}\n"
     ]
    }
   ],
   "source": [
    "set1 = set([1, 2, 'Geeks', 4, 'For', 6, 'Geeks'])\n",
    "print(\"\\nSet with the use of Mixed Values\")\n",
    "print(set1)\n"
   ]
  },
  {
   "cell_type": "code",
   "execution_count": 41,
   "metadata": {},
   "outputs": [
    {
     "name": "stdout",
     "output_type": "stream",
     "text": [
      "Intial blank Set: \n",
      "set()\n",
      "\n",
      "Set after Addition of Three elements: \n",
      "{8, 9, 12}\n"
     ]
    }
   ],
   "source": [
    "# Creating a Set\n",
    "set1 = set()\n",
    "print(\"Intial blank Set: \")\n",
    "print(set1)\n",
    "  \n",
    "# Adding element to the Set\n",
    "set1.add(8)\n",
    "set1.add(9)\n",
    "set1.add(12)\n",
    "print(\"\\nSet after Addition of Three elements: \")\n",
    "print(set1)\n"
   ]
  },
  {
   "cell_type": "code",
   "execution_count": 42,
   "metadata": {},
   "outputs": [
    {
     "name": "stdout",
     "output_type": "stream",
     "text": [
      "\n",
      "Set after Addition of elements using Update: \n",
      "{8, 9, 10, 11, 12}\n"
     ]
    }
   ],
   "source": [
    "set1.update([10, 11]) \n",
    "print(\"\\nSet after Addition of elements using Update: \") \n",
    "print(set1) \n"
   ]
  },
  {
   "cell_type": "code",
   "execution_count": 43,
   "metadata": {},
   "outputs": [
    {
     "name": "stdout",
     "output_type": "stream",
     "text": [
      "Intial Set: \n",
      "{1, 2, 3, 4, 5, 6, 7, 8, 9, 10, 11, 12}\n",
      "\n",
      "Set after Removal of two elements: \n",
      "{1, 2, 3, 4, 7, 8, 9, 10, 11, 12}\n"
     ]
    }
   ],
   "source": [
    "set1 = set([1, 2, 3, 4, 5, 6, \n",
    "            7, 8, 9, 10, 11, 12])\n",
    "print(\"Intial Set: \")\n",
    "print(set1)\n",
    "  \n",
    "# Removing elements from Set\n",
    "# using Remove() method\n",
    "set1.remove(5)\n",
    "set1.remove(6)\n",
    "print(\"\\nSet after Removal of two elements: \")\n",
    "print(set1)\n"
   ]
  },
  {
   "cell_type": "code",
   "execution_count": 44,
   "metadata": {},
   "outputs": [
    {
     "name": "stdout",
     "output_type": "stream",
     "text": [
      "\n",
      "Set after Discarding two elements: \n",
      "{1, 2, 3, 4, 7, 10, 11, 12}\n"
     ]
    }
   ],
   "source": [
    "set1.discard(8)\n",
    "set1.discard(9)\n",
    "print(\"\\nSet after Discarding two elements: \")\n",
    "print(set1)\n"
   ]
  },
  {
   "cell_type": "code",
   "execution_count": 45,
   "metadata": {},
   "outputs": [
    {
     "name": "stdout",
     "output_type": "stream",
     "text": [
      "{2, 3, 4, 7, 10, 11, 12}\n"
     ]
    }
   ],
   "source": [
    "set1.pop()\n",
    "print(set1)\n"
   ]
  },
  {
   "cell_type": "code",
   "execution_count": 46,
   "metadata": {},
   "outputs": [
    {
     "name": "stdout",
     "output_type": "stream",
     "text": [
      "set()\n"
     ]
    }
   ],
   "source": [
    "set1.clear()\n",
    "print(set1)\n"
   ]
  },
  {
   "cell_type": "code",
   "execution_count": null,
   "metadata": {},
   "outputs": [],
   "source": []
  }
 ],
 "metadata": {
  "kernelspec": {
   "display_name": "Python 3",
   "language": "python",
   "name": "python3"
  },
  "language_info": {
   "codemirror_mode": {
    "name": "ipython",
    "version": 3
   },
   "file_extension": ".py",
   "mimetype": "text/x-python",
   "name": "python",
   "nbconvert_exporter": "python",
   "pygments_lexer": "ipython3",
   "version": "3.7.6"
  }
 },
 "nbformat": 4,
 "nbformat_minor": 4
}
