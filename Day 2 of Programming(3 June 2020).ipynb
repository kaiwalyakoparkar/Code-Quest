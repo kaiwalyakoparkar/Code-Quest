{
 "cells": [
  {
   "cell_type": "code",
   "execution_count": 2,
   "metadata": {},
   "outputs": [
    {
     "name": "stdout",
     "output_type": "stream",
     "text": [
      "{'Hydrogen': 35, 'Helium': 2, 'Carbon': 6}\n"
     ]
    }
   ],
   "source": [
    "elements={\"Hydrogen\":1,\"Helium\":2,\"Carbon\":6}\n",
    "elements[\"Hydrogen\"]=35\n",
    "print(elements)"
   ]
  },
  {
   "cell_type": "code",
   "execution_count": 4,
   "metadata": {},
   "outputs": [
    {
     "name": "stdout",
     "output_type": "stream",
     "text": [
      "{'Hydrogen': 35, 'Helium': 2}\n"
     ]
    }
   ],
   "source": [
    "del elements[\"Carbon\"]\n",
    "print(elements)"
   ]
  },
  {
   "cell_type": "code",
   "execution_count": 8,
   "metadata": {},
   "outputs": [
    {
     "name": "stdout",
     "output_type": "stream",
     "text": [
      "A\n",
      "B\n",
      "C\n"
     ]
    }
   ],
   "source": [
    "#loops start.\n",
    "\n",
    "cast={\n",
    "    \"A\":\"a\",\n",
    "    \"B\":\"b\",\n",
    "    \"C\":\"c\"\n",
    "\n",
    "     }\n",
    "\n",
    "for key in cast:\n",
    "    print(key)"
   ]
  },
  {
   "cell_type": "code",
   "execution_count": 11,
   "metadata": {},
   "outputs": [
    {
     "name": "stdout",
     "output_type": "stream",
     "text": [
      "Hello Geeks\n",
      "Hello Geeks\n",
      "Hello Geeks\n"
     ]
    }
   ],
   "source": [
    "#while Loop\n",
    "\n",
    "\n",
    "count=0\n",
    "while(count<3):\n",
    "    count=count+1\n",
    "    print(\"Hello Geeks\")"
   ]
  },
  {
   "cell_type": "code",
   "execution_count": 18,
   "metadata": {},
   "outputs": [
    {
     "name": "stdout",
     "output_type": "stream",
     "text": [
      "Current letter is:  g\n",
      "Current letter is:  k\n",
      "Current letter is:  f\n",
      "Current letter is:  o\n",
      "Current letter is:  r\n",
      "Current letter is:  g\n",
      "Current letter is:  k\n"
     ]
    }
   ],
   "source": [
    "#continue operator\n",
    "\n",
    "for letter in 'geeksforgeeks':\n",
    "    if letter=='e' or letter=='s':\n",
    "        continue\n",
    "       \n",
    "    print (\"Current letter is: \",letter)"
   ]
  },
  {
   "cell_type": "code",
   "execution_count": 20,
   "metadata": {},
   "outputs": [
    {
     "name": "stdout",
     "output_type": "stream",
     "text": [
      "{('Nikhil', 1, 50), ('Astha', 2, 70), ('Shambhavi', 3, 60), ('Manjeet', 4, 40)}\n"
     ]
    }
   ],
   "source": [
    "#zip() operator\n",
    "\n",
    "list(zip(['a', 'b', 'c'], [1, 2, 3]))#formaat\n",
    "\n",
    "# initializing lists\n",
    "\n",
    "name = [ \"Manjeet\", \"Nikhil\", \"Shambhavi\", \"Astha\" ]\n",
    "roll_no = [ 4, 1, 3, 2 ]\n",
    "marks = [ 40, 50, 60, 70 ]\n",
    "\n",
    "# using zip() to map values\n",
    "\n",
    "mapped = zip(name, roll_no, marks)\n",
    "\n",
    "# converting values to print as set\n",
    "\n",
    "mapped = set(mapped)                                                             \n",
    "\n",
    "# printing resultant values                                      \n",
    "\n",
    "print (mapped)\n"
   ]
  },
  {
   "cell_type": "code",
   "execution_count": 21,
   "metadata": {},
   "outputs": [
    {
     "name": "stdout",
     "output_type": "stream",
     "text": [
      "0 a\n",
      "1 b\n",
      "2 c\n",
      "3 d\n",
      "4 e\n"
     ]
    }
   ],
   "source": [
    "#enumarate \n",
    "\n",
    "letters = ['a', 'b', 'c', 'd', 'e']\n",
    "for i, letter in enumerate(letters):\n",
    "    print(i, letter)\n"
   ]
  },
  {
   "cell_type": "code",
   "execution_count": 22,
   "metadata": {},
   "outputs": [
    {
     "name": "stdout",
     "output_type": "stream",
     "text": [
      "[(0, 'apple'), (1, 'banana'), (2, 'cherry')]\n"
     ]
    }
   ],
   "source": [
    "x = ('apple', 'banana', 'cherry')                       \n",
    "y = enumerate(x)\n",
    "print(list(y))\n"
   ]
  },
  {
   "cell_type": "code",
   "execution_count": 24,
   "metadata": {},
   "outputs": [],
   "source": [
    "#list comprehention\n",
    "\n",
    "capitalized_cities = [ ]\n",
    "for city in capitalized_cities:\n",
    "    capitalized_cities.append(city.title())\n",
    "\n",
    "#type 2\n",
    "\n",
    "capitalized_cities = [city.title() for city in capitalized_cities]"
   ]
  },
  {
   "cell_type": "code",
   "execution_count": 25,
   "metadata": {},
   "outputs": [],
   "source": [
    "lettera=[]\n",
    "\n",
    "for letter in 'human':\n",
    "    lettera.append(letter)"
   ]
  },
  {
   "cell_type": "code",
   "execution_count": 26,
   "metadata": {},
   "outputs": [
    {
     "name": "stdout",
     "output_type": "stream",
     "text": [
      "Enter your value: 123\n",
      "123\n"
     ]
    }
   ],
   "source": [
    "# Python program showing \n",
    "# a use of input()\n",
    "  \n",
    "val = input(\"Enter your value: \")\n",
    "print(val)\n"
   ]
  },
  {
   "cell_type": "code",
   "execution_count": 28,
   "metadata": {},
   "outputs": [
    {
     "name": "stdout",
     "output_type": "stream",
     "text": [
      "Enter a two value: 10 50\n",
      "Number of boys:  10\n",
      "Number of girls:  50\n",
      "\n"
     ]
    }
   ],
   "source": [
    "# taking two inputs at a time\n",
    "\n",
    "x, y = input(\"Enter a two value: \").split()\n",
    "\n",
    "print(\"Number of boys: \", x)\n",
    "\n",
    "print(\"Number of girls: \", y)\n",
    "\n",
    "print()\n"
   ]
  },
  {
   "cell_type": "code",
   "execution_count": 29,
   "metadata": {},
   "outputs": [
    {
     "name": "stdout",
     "output_type": "stream",
     "text": [
      "Enter a multiple value: 20 30 40 80 100\n",
      "List of students:  [20, 30, 40, 80, 100]\n"
     ]
    }
   ],
   "source": [
    "# taking multiple inputs at a time \n",
    "# and type casting using list() function\n",
    "x = list(map(int, input(\"Enter a multiple value: \").split()))\n",
    "print(\"List of students: \", x)\n"
   ]
  },
  {
   "cell_type": "code",
   "execution_count": 47,
   "metadata": {},
   "outputs": [
    {
     "ename": "SyntaxError",
     "evalue": "invalid syntax (<ipython-input-47-5a21018e78f4>, line 1)",
     "output_type": "error",
     "traceback": [
      "\u001b[1;36m  File \u001b[1;32m\"<ipython-input-47-5a21018e78f4>\"\u001b[1;36m, line \u001b[1;32m1\u001b[0m\n\u001b[1;33m    required_arg.py --name Peter\u001b[0m\n\u001b[1;37m                               ^\u001b[0m\n\u001b[1;31mSyntaxError\u001b[0m\u001b[1;31m:\u001b[0m invalid syntax\n"
     ]
    }
   ],
   "source": [
    "required_arg.py --name Peter\n",
    "import argparse\n",
    "\n",
    "# required arg\n",
    "\n",
    "parser = argparse.ArgumentParser()   \n",
    "parser.add_argument('--name', required=True)\n",
    "args = parser.parse_args()\n",
    "\n",
    "print(\"Hello {args.name}\")\n"
   ]
  },
  {
   "cell_type": "code",
   "execution_count": 45,
   "metadata": {},
   "outputs": [
    {
     "data": {
      "text/plain": [
       "282.7431"
      ]
     },
     "execution_count": 45,
     "metadata": {},
     "output_type": "execute_result"
    }
   ],
   "source": [
    "#functions starts here\n",
    "\n",
    "def cylinder_volume(height, radius):\n",
    "    pi = 3.14159\n",
    "    return height * pi * radius ** 2\n",
    "\n",
    "#call function like this\n",
    "cylinder_volume(10, 3)\n"
   ]
  },
  {
   "cell_type": "code",
   "execution_count": 54,
   "metadata": {},
   "outputs": [
    {
     "name": "stdout",
     "output_type": "stream",
     "text": [
      "x =  [1 2 3 4 5]\n"
     ]
    }
   ],
   "source": [
    "#Numpy section starts\n",
    "\n",
    "import numpy as np\n",
    "\n",
    "x=np.array([1,2,3,4,5])\n",
    "\n",
    "print(\"x = \",x)"
   ]
  },
  {
   "cell_type": "code",
   "execution_count": 55,
   "metadata": {},
   "outputs": [
    {
     "name": "stdout",
     "output_type": "stream",
     "text": [
      "\n",
      "x =  [1 2 3 4 5]\n",
      "\n",
      "x has dimentions: (5,)\n",
      "x is an object type: <class 'numpy.ndarray'>\n",
      "The elements in x are of type: int32\n"
     ]
    }
   ],
   "source": [
    "x= np.array([1,2,3,4,5])\n",
    "\n",
    "print()\n",
    "print(\"x = \",x)\n",
    "print()\n",
    "\n",
    "print(\"x has dimentions:\",x.shape)\n",
    "print(\"x is an object type:\",type(x))\n",
    "print(\"The elements in x are of type:\",x.dtype)"
   ]
  },
  {
   "cell_type": "code",
   "execution_count": null,
   "metadata": {},
   "outputs": [],
   "source": []
  },
  {
   "cell_type": "code",
   "execution_count": null,
   "metadata": {},
   "outputs": [],
   "source": []
  }
 ],
 "metadata": {
  "kernelspec": {
   "display_name": "Python 3",
   "language": "python",
   "name": "python3"
  },
  "language_info": {
   "codemirror_mode": {
    "name": "ipython",
    "version": 3
   },
   "file_extension": ".py",
   "mimetype": "text/x-python",
   "name": "python",
   "nbconvert_exporter": "python",
   "pygments_lexer": "ipython3",
   "version": "3.7.6"
  }
 },
 "nbformat": 4,
 "nbformat_minor": 4
}
